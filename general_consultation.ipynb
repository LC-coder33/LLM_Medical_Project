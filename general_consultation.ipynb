{
 "cells": [
  {
   "cell_type": "code",
   "execution_count": 2,
   "metadata": {},
   "outputs": [
    {
     "name": "stdout",
     "output_type": "stream",
     "text": [
      "Available names in config: ['DB_CONFIG', 'GEMINI_API_KEY', 'MEDICAL_SYSTEM_PROMPT', 'OPENAI_API_KEY', 'OPENFDA_API_KEY', 'OPENFDA_API_URL', 'PUBMED_API_KEY', 'PUBMED_API_URL', '__builtins__', '__cached__', '__doc__', '__file__', '__loader__', '__name__', '__package__', '__spec__', 'config']\n"
     ]
    }
   ],
   "source": [
    "import gradio as gr\n",
    "import google.generativeai as genai\n",
    "import requests\n",
    "from typing import List, Tuple, Optional\n",
    "from config import (\n",
    "    GEMINI_API_KEY, \n",
    "    PUBMED_API_KEY, \n",
    "    PUBMED_API_URL, \n",
    "    MEDICAL_SYSTEM_PROMPT\n",
    ")"
   ]
  },
  {
   "cell_type": "code",
   "execution_count": 3,
   "metadata": {},
   "outputs": [],
   "source": [
    "class GeneralConsultation:\n",
    "    def __init__(self):\n",
    "        \"\"\"일반 상담 모듈 초기화\"\"\"\n",
    "        genai.configure(api_key=GEMINI_API_KEY)\n",
    "        self.model = genai.GenerativeModel('gemini-pro')\n",
    "        self.system_prompt = MEDICAL_SYSTEM_PROMPT\n",
    "    \n",
    "    def get_medical_response(self, message: str, history: List[Tuple[str, str]]) -> str:\n",
    "        \"\"\"의료 상담 응답 생성\"\"\"\n",
    "        history = history or []\n",
    "        \n",
    "        # 채팅 컨텍스트 설정\n",
    "        chat = self.model.start_chat(history=[])\n",
    "        \n",
    "        # 시스템 프롬프트와 사용자 메시지 결합\n",
    "        full_prompt = f\"{self.system_prompt}\\n\\n사용자: {message}\"\n",
    "        \n",
    "        # 응답 생성\n",
    "        response = chat.send_message(full_prompt)\n",
    "        \n",
    "        # 관련 논문 검색\n",
    "        papers = self.search_pubmed(message)\n",
    "        \n",
    "        # 응답과 관련 논문 정보 결합\n",
    "        full_response = response.text + \"\\n\\n관련 논문:\\n\"\n",
    "        for paper in papers[:3]:  # 상위 3개 논문만 표시\n",
    "            full_response += f\"- {paper['title']}\\n\"\n",
    "        \n",
    "        return full_response  # history는 반환하지 않음\n",
    "    \n",
    "    def search_pubmed(self, query: str, max_results: int = 3) -> List[dict]:\n",
    "        \"\"\"PubMed API로 관련 논문 검색\"\"\"\n",
    "        try:\n",
    "            # 검색 요청\n",
    "            search_url = f\"{PUBMED_API_URL}esearch.fcgi\"\n",
    "            params = {\n",
    "                \"db\": \"pubmed\",\n",
    "                \"term\": query,\n",
    "                \"api_key\": PUBMED_API_KEY,\n",
    "                \"retmax\": max_results,\n",
    "                \"retmode\": \"json\"\n",
    "            }\n",
    "            \n",
    "            response = requests.get(search_url, params=params)\n",
    "            data = response.json()\n",
    "            \n",
    "            if \"esearchresult\" not in data:\n",
    "                return []\n",
    "                \n",
    "            id_list = data[\"esearchresult\"][\"idlist\"]\n",
    "            \n",
    "            # 논문 상세 정보 조회\n",
    "            papers = []\n",
    "            for pmid in id_list:\n",
    "                summary_url = f\"{PUBMED_API_URL}esummary.fcgi\"\n",
    "                params = {\n",
    "                    \"db\": \"pubmed\",\n",
    "                    \"id\": pmid,\n",
    "                    \"api_key\": PUBMED_API_KEY,\n",
    "                    \"retmode\": \"json\"\n",
    "                }\n",
    "                \n",
    "                response = requests.get(summary_url, params=params)\n",
    "                paper_data = response.json()[\"result\"][pmid]\n",
    "                \n",
    "                papers.append({\n",
    "                    \"title\": paper_data[\"title\"],\n",
    "                    \"authors\": paper_data.get(\"authors\", []),\n",
    "                    \"pubdate\": paper_data.get(\"pubdate\", \"\"),\n",
    "                    \"url\": f\"https://pubmed.ncbi.nlm.nih.gov/{pmid}\"\n",
    "                })\n",
    "            \n",
    "            return papers\n",
    "            \n",
    "        except Exception as e:\n",
    "            print(f\"PubMed API 오류: {e}\")\n",
    "            return []\n",
    "    \n",
    "    def create_interface(self) -> None:\n",
    "        \"\"\"Gradio 인터페이스 생성\"\"\"\n",
    "        gr.ChatInterface(\n",
    "            self.get_medical_response,\n",
    "            chatbot=gr.Chatbot(height=400),\n",
    "            textbox=gr.Textbox(\n",
    "                placeholder=\"의료 관련 질문을 입력하세요...\",\n",
    "                lines=2\n",
    "            ),\n",
    "            title=\"의료 상담 챗봇\",\n",
    "            description=\"의료 관련 질문에 대해 답변해드립니다. (전문의와 상담을 대체할 수 없습니다)\",\n",
    "            examples=[\n",
    "                [\"당뇨병의 초기 증상은 무엇인가요?\"],\n",
    "                [\"고혈압을 예방하기 위한 생활 수칙을 알려주세요.\"],\n",
    "                [\"편두통과 일반 두통의 차이점은 무엇인가요?\"]\n",
    "            ]\n",
    "        )\n"
   ]
  },
  {
   "cell_type": "code",
   "execution_count": 4,
   "metadata": {},
   "outputs": [
    {
     "name": "stderr",
     "output_type": "stream",
     "text": [
      "c:\\Medical_Project\\.venv\\lib\\site-packages\\gradio\\components\\chatbot.py:273: UserWarning: You have not specified a value for the `type` parameter. Defaulting to the 'tuples' format for chatbot messages, but this is deprecated and will be removed in a future version of Gradio. Please set type='messages' instead, which uses openai-style dictionaries with 'role' and 'content' keys.\n",
      "  warnings.warn(\n",
      "c:\\Medical_Project\\.venv\\lib\\site-packages\\gradio\\chat_interface.py:316: UserWarning: The gr.ChatInterface was not provided with a type, so the type of the gr.Chatbot, 'tuples', will be used.\n",
      "  warnings.warn(\n"
     ]
    },
    {
     "name": "stdout",
     "output_type": "stream",
     "text": [
      "* Running on local URL:  http://127.0.0.1:7860\n",
      "\n",
      "To create a public link, set `share=True` in `launch()`.\n"
     ]
    },
    {
     "data": {
      "text/html": [
       "<div><iframe src=\"http://127.0.0.1:7860/\" width=\"100%\" height=\"500\" allow=\"autoplay; camera; microphone; clipboard-read; clipboard-write;\" frameborder=\"0\" allowfullscreen></iframe></div>"
      ],
      "text/plain": [
       "<IPython.core.display.HTML object>"
      ]
     },
     "metadata": {},
     "output_type": "display_data"
    }
   ],
   "source": [
    "if __name__ == \"__main__\":\n",
    "    # 모듈 단독 실행용 코드\n",
    "    consultation = GeneralConsultation()\n",
    "    with gr.Blocks() as demo:\n",
    "        consultation.create_interface()\n",
    "    demo.launch()"
   ]
  },
  {
   "cell_type": "code",
   "execution_count": 1,
   "metadata": {},
   "outputs": [
    {
     "ename": "NameError",
     "evalue": "name 'demo' is not defined",
     "output_type": "error",
     "traceback": [
      "\u001b[1;31m---------------------------------------------------------------------------\u001b[0m",
      "\u001b[1;31mNameError\u001b[0m                                 Traceback (most recent call last)",
      "Cell \u001b[1;32mIn[1], line 1\u001b[0m\n\u001b[1;32m----> 1\u001b[0m \u001b[43mdemo\u001b[49m\u001b[38;5;241m.\u001b[39mclose()\n",
      "\u001b[1;31mNameError\u001b[0m: name 'demo' is not defined"
     ]
    }
   ],
   "source": [
    "demo.close()"
   ]
  }
 ],
 "metadata": {
  "kernelspec": {
   "display_name": ".venv",
   "language": "python",
   "name": "python3"
  },
  "language_info": {
   "codemirror_mode": {
    "name": "ipython",
    "version": 3
   },
   "file_extension": ".py",
   "mimetype": "text/x-python",
   "name": "python",
   "nbconvert_exporter": "python",
   "pygments_lexer": "ipython3",
   "version": "3.10.6"
  }
 },
 "nbformat": 4,
 "nbformat_minor": 2
}
