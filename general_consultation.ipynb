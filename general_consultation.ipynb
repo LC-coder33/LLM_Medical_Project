{
 "cells": [
  {
   "cell_type": "code",
   "execution_count": 1,
   "metadata": {},
   "outputs": [
    {
     "name": "stderr",
     "output_type": "stream",
     "text": [
      "b:\\LLM_Medical_Project\\.venv\\lib\\site-packages\\tqdm\\auto.py:21: TqdmWarning: IProgress not found. Please update jupyter and ipywidgets. See https://ipywidgets.readthedocs.io/en/stable/user_install.html\n",
      "  from .autonotebook import tqdm as notebook_tqdm\n"
     ]
    },
    {
     "name": "stdout",
     "output_type": "stream",
     "text": [
      "Available names in config: ['DB_CONFIG', 'GEMINI_API_KEY', 'MEDICAL_SYSTEM_PROMPT', 'OPENAI_API_KEY', 'OPENFDA_API_KEY', 'OPENFDA_API_URL', 'PUBMED_API_KEY', 'PUBMED_API_URL', '__builtins__', '__cached__', '__doc__', '__file__', '__loader__', '__name__', '__package__', '__spec__', 'config']\n"
     ]
    }
   ],
   "source": [
    "import gradio as gr\n",
    "import google.generativeai as genai\n",
    "from typing import List, Tuple\n",
    "from config import GEMINI_API_KEY, MEDICAL_SYSTEM_PROMPT"
   ]
  },
  {
   "cell_type": "code",
   "execution_count": 2,
   "metadata": {},
   "outputs": [],
   "source": [
    "class GeneralConsultation:\n",
    "    def __init__(self):\n",
    "        \"\"\"일반 상담 모듈 초기화\"\"\"\n",
    "        genai.configure(api_key=GEMINI_API_KEY)\n",
    "        self.model = genai.GenerativeModel('gemini-pro')\n",
    "        self.system_prompt = MEDICAL_SYSTEM_PROMPT\n",
    "    \n",
    "    def get_medical_response(self, message: str, history) -> str:\n",
    "        \"\"\"의료 상담 응답 생성\"\"\"\n",
    "        chat = self.model.start_chat()\n",
    "        full_prompt = f\"{self.system_prompt}\\n\\n사용자: {message}\"\n",
    "        response = chat.send_message(full_prompt)\n",
    "        return response.text\n",
    "    \n",
    "    def create_interface(self) -> None:\n",
    "        \"\"\"Gradio 인터페이스 생성\"\"\"\n",
    "        demo = gr.ChatInterface(\n",
    "            fn=self.get_medical_response,\n",
    "            title=\"의료 상담 챗봇\",\n",
    "            description=\"의료 관련 질문에 대해 답변해드립니다. (전문의와 상담을 대체할 수 없습니다)\",\n",
    "            examples=[\n",
    "                [\"당뇨병의 초기 증상은 무엇인가요?\"],\n",
    "                [\"고혈압을 예방하기 위한 생활 수칙을 알려주세요.\"],\n",
    "                [\"편두통과 일반 두통의 차이점은 무엇인가요?\"]\n",
    "            ]\n",
    "        )\n",
    "        return demo"
   ]
  },
  {
   "cell_type": "code",
   "execution_count": 3,
   "metadata": {},
   "outputs": [
    {
     "name": "stderr",
     "output_type": "stream",
     "text": [
      "b:\\LLM_Medical_Project\\.venv\\lib\\site-packages\\gradio\\components\\chatbot.py:279: UserWarning: The 'tuples' format for chatbot messages is deprecated and will be removed in a future version of Gradio. Please set type='messages' instead, which uses openai-style 'role' and 'content' keys.\n",
      "  warnings.warn(\n"
     ]
    },
    {
     "name": "stdout",
     "output_type": "stream",
     "text": [
      "* Running on local URL:  http://127.0.0.1:7861\n",
      "\n",
      "To create a public link, set `share=True` in `launch()`.\n"
     ]
    },
    {
     "data": {
      "text/html": [
       "<div><iframe src=\"http://127.0.0.1:7861/\" width=\"100%\" height=\"500\" allow=\"autoplay; camera; microphone; clipboard-read; clipboard-write;\" frameborder=\"0\" allowfullscreen></iframe></div>"
      ],
      "text/plain": [
       "<IPython.core.display.HTML object>"
      ]
     },
     "metadata": {},
     "output_type": "display_data"
    }
   ],
   "source": [
    "if __name__ == \"__main__\":\n",
    "    consultation = GeneralConsultation()\n",
    "    demo = consultation.create_interface()\n",
    "    demo.launch()"
   ]
  },
  {
   "cell_type": "code",
   "execution_count": 4,
   "metadata": {},
   "outputs": [
    {
     "name": "stdout",
     "output_type": "stream",
     "text": [
      "Closing server running on port: 7861\n"
     ]
    }
   ],
   "source": [
    "demo.close()"
   ]
  }
 ],
 "metadata": {
  "kernelspec": {
   "display_name": ".venv",
   "language": "python",
   "name": "python3"
  },
  "language_info": {
   "codemirror_mode": {
    "name": "ipython",
    "version": 3
   },
   "file_extension": ".py",
   "mimetype": "text/x-python",
   "name": "python",
   "nbconvert_exporter": "python",
   "pygments_lexer": "ipython3",
   "version": "3.10.6"
  }
 },
 "nbformat": 4,
 "nbformat_minor": 2
}
