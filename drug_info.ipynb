{
 "cells": [
  {
   "cell_type": "code",
   "execution_count": 1,
   "metadata": {},
   "outputs": [
    {
     "name": "stderr",
     "output_type": "stream",
     "text": [
      "b:\\LLM_Medical_Project\\.venv\\lib\\site-packages\\tqdm\\auto.py:21: TqdmWarning: IProgress not found. Please update jupyter and ipywidgets. See https://ipywidgets.readthedocs.io/en/stable/user_install.html\n",
      "  from .autonotebook import tqdm as notebook_tqdm\n"
     ]
    },
    {
     "name": "stdout",
     "output_type": "stream",
     "text": [
      "Available names in config: ['DB_CONFIG', 'GEMINI_API_KEY', 'MEDICAL_SYSTEM_PROMPT', 'OPENAI_API_KEY', 'OPENFDA_API_KEY', 'OPENFDA_API_URL', 'PUBMED_API_KEY', 'PUBMED_API_URL', '__builtins__', '__cached__', '__doc__', '__file__', '__loader__', '__name__', '__package__', '__spec__', 'config']\n"
     ]
    }
   ],
   "source": [
    "import gradio as gr\n",
    "import requests\n",
    "import plotly.graph_objects as go\n",
    "from config import OPENFDA_API_KEY, OPENFDA_API_URL"
   ]
  },
  {
   "cell_type": "code",
   "execution_count": 7,
   "metadata": {},
   "outputs": [],
   "source": [
    "class DrugInfo:\n",
    "    def __init__(self):\n",
    "        \"\"\"의약품 정보 모듈 초기화\"\"\"\n",
    "        self.api_key = OPENFDA_API_KEY\n",
    "        \n",
    "    def visualize_side_effects(self, drug_name: str):\n",
    "        \"\"\"부작용 데이터 시각화\"\"\"\n",
    "        try:\n",
    "            if not drug_name.strip():\n",
    "                return None\n",
    "                \n",
    "            # OpenFDA에서 부작용 데이터 가져오기\n",
    "            url = f\"{OPENFDA_API_URL}event.json\"\n",
    "            params = {\n",
    "                \"api_key\": self.api_key,\n",
    "                \"search\": f\"patient.drug.medicinalproduct:{drug_name}\",\n",
    "                \"count\": \"patient.reaction.reactionmeddrapt.exact\",\n",
    "                \"limit\": 10  # 상위 10개 부작용만 가져오기\n",
    "            }\n",
    "            \n",
    "            response = requests.get(url, params=params)\n",
    "            data = response.json()\n",
    "            \n",
    "            if \"results\" not in data or not data[\"results\"]:\n",
    "                return go.Figure().add_annotation(\n",
    "                    text=\"데이터를 찾을 수 없습니다.\",\n",
    "                    xref=\"paper\", yref=\"paper\",\n",
    "                    x=0.5, y=0.5, showarrow=False\n",
    "                )\n",
    "                \n",
    "            # 상위 10개 부작용 추출\n",
    "            effects = [(item[\"term\"], item[\"count\"]) \n",
    "                      for item in data[\"results\"]]\n",
    "            \n",
    "            # Plotly로 바 차트 생성\n",
    "            fig = go.Figure([\n",
    "                go.Bar(\n",
    "                    x=[count for _, count in effects],\n",
    "                    y=[term for term, _ in effects],\n",
    "                    orientation='h',\n",
    "                    marker_color='indianred'\n",
    "                )\n",
    "            ])\n",
    "            \n",
    "            fig.update_layout(\n",
    "                title=f\"{drug_name}의 주요 부작용 보고 현황\",\n",
    "                xaxis_title=\"보고 건수\",\n",
    "                yaxis_title=\"부작용\",\n",
    "                height=600,\n",
    "                font=dict(size=12),\n",
    "                margin=dict(l=200)  # 긴 부작용 이름을 위한 여백\n",
    "            )\n",
    "            \n",
    "            return fig\n",
    "            \n",
    "        except Exception as e:\n",
    "            print(f\"부작용 데이터 시각화 오류: {e}\")\n",
    "            return go.Figure().add_annotation(\n",
    "                text=\"데이터를 가져오는 중 오류가 발생했습니다.\",\n",
    "                xref=\"paper\", yref=\"paper\",\n",
    "                x=0.5, y=0.5, showarrow=False\n",
    "            )\n",
    "    \n",
    "    def create_interface(self) -> None:\n",
    "        \"\"\"Gradio 인터페이스 생성\"\"\"\n",
    "        with gr.Blocks() as interface:\n",
    "            gr.Markdown(\"\"\"\n",
    "                ## 의약품 부작용 통계\n",
    "                영문 약물명을 입력하면 해당 약물의 주요 부작용 통계를 보여줍니다.\n",
    "                \n",
    "                예시 약물명:\n",
    "                - aspirin\n",
    "                - ibuprofen\n",
    "                - acetaminophen\n",
    "                - omeprazole\n",
    "                - metformin\n",
    "            \"\"\")\n",
    "            \n",
    "            with gr.Row():\n",
    "                drug_name_input = gr.Textbox(\n",
    "                    label=\"약물명 입력\",\n",
    "                    placeholder=\"영문 약물명을 입력하세요 (예: aspirin)\",\n",
    "                    scale=2\n",
    "                )\n",
    "                search_button = gr.Button(\n",
    "                    \"부작용 통계 검색\",\n",
    "                    scale=1\n",
    "                )\n",
    "            \n",
    "            plot_output = gr.Plot(label=\"부작용 통계\")\n",
    "            \n",
    "            search_button.click(\n",
    "                fn=self.visualize_side_effects,\n",
    "                inputs=drug_name_input,\n",
    "                outputs=plot_output\n",
    "            )\n"
   ]
  },
  {
   "cell_type": "code",
   "execution_count": 8,
   "metadata": {},
   "outputs": [
    {
     "name": "stdout",
     "output_type": "stream",
     "text": [
      "* Running on local URL:  http://127.0.0.1:7860\n",
      "\n",
      "To create a public link, set `share=True` in `launch()`.\n"
     ]
    },
    {
     "data": {
      "text/html": [
       "<div><iframe src=\"http://127.0.0.1:7860/\" width=\"100%\" height=\"500\" allow=\"autoplay; camera; microphone; clipboard-read; clipboard-write;\" frameborder=\"0\" allowfullscreen></iframe></div>"
      ],
      "text/plain": [
       "<IPython.core.display.HTML object>"
      ]
     },
     "metadata": {},
     "output_type": "display_data"
    }
   ],
   "source": [
    "if __name__ == \"__main__\":\n",
    "    # 모듈 단독 실행용 코드\n",
    "    drug_info = DrugInfo()\n",
    "    with gr.Blocks() as demo:\n",
    "        drug_info.create_interface()\n",
    "    demo.launch()"
   ]
  },
  {
   "cell_type": "code",
   "execution_count": 10,
   "metadata": {},
   "outputs": [
    {
     "name": "stdout",
     "output_type": "stream",
     "text": [
      "Closing server running on port: 7860\n"
     ]
    }
   ],
   "source": [
    "demo.close()"
   ]
  }
 ],
 "metadata": {
  "kernelspec": {
   "display_name": ".venv",
   "language": "python",
   "name": "python3"
  },
  "language_info": {
   "codemirror_mode": {
    "name": "ipython",
    "version": 3
   },
   "file_extension": ".py",
   "mimetype": "text/x-python",
   "name": "python",
   "nbconvert_exporter": "python",
   "pygments_lexer": "ipython3",
   "version": "3.10.6"
  }
 },
 "nbformat": 4,
 "nbformat_minor": 2
}
