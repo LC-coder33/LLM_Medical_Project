{
 "cells": [
  {
   "cell_type": "code",
   "execution_count": 41,
   "metadata": {},
   "outputs": [],
   "source": [
    "import gradio as gr\n",
    "import requests\n",
    "import google.generativeai as genai\n",
    "from config import GEMINI_API_KEY\n",
    "from typing import List, Dict\n",
    "from config import OPENFDA_API_KEY, OPENFDA_API_URL"
   ]
  },
  {
   "cell_type": "code",
   "execution_count": 42,
   "metadata": {},
   "outputs": [],
   "source": [
    "class DrugSearch:\n",
    "    def __init__(self):\n",
    "        \"\"\"약물 검색 모듈 초기화\"\"\"\n",
    "        genai.configure(api_key=GEMINI_API_KEY)\n",
    "        self.api_key = OPENFDA_API_KEY\n",
    "        self.model = genai.GenerativeModel('gemini-pro')\n",
    "    \n",
    "    def translate_condition(self, text: str) -> str:\n",
    "        \"\"\"한글 질병/증상명을 영어로 번역\"\"\"\n",
    "        try:\n",
    "            if text.isascii():  # 이미 영어면 번역하지 않음\n",
    "                return text\n",
    "                \n",
    "            prompt = f\"Translate this medical condition to English (one word only): {text}\"\n",
    "            response = self.model.generate_content(prompt)\n",
    "            return response.text.strip()\n",
    "                \n",
    "        except Exception as e:\n",
    "            print(f\"번역 오류: {e}\")\n",
    "            return text\n",
    "    \n",
    "    def search_drugs(self, condition: str) -> str:\n",
    "        \"\"\"질병/증상에 따른 약물 검색\"\"\"\n",
    "        try:\n",
    "            if not condition.strip():\n",
    "                return \"검색어를 입력해주세요.\"\n",
    "            \n",
    "            # 한글 입력을 영어로 번역\n",
    "            condition = self.translate_condition(condition)\n",
    "                \n",
    "            url = f\"{OPENFDA_API_URL}event.json\"\n",
    "            params = {\n",
    "                \"api_key\": self.api_key,\n",
    "                \"search\": f\"patient.drug.drugindication:{condition}\",\n",
    "                \"count\": \"patient.drug.medicinalproduct.exact\",\n",
    "                \"limit\": 10\n",
    "            }\n",
    "            \n",
    "            response = requests.get(url, params=params)\n",
    "            data = response.json()\n",
    "            \n",
    "            if \"results\" not in data:\n",
    "                return \"검색 결과가 없습니다.\"\n",
    "            \n",
    "            result_text = f\"'{condition}'에 대한 약물 검색 결과:\\n\\n\"\n",
    "            \n",
    "            for i, drug in enumerate(data[\"results\"], 1):\n",
    "                result_text += f\"{i}. {drug['term']}\\n\"\n",
    "                result_text += f\"   처방 건수: {drug['count']:,}건\\n\\n\"\n",
    "            \n",
    "            return result_text\n",
    "            \n",
    "        except Exception as e:\n",
    "            return f\"검색 중 오류가 발생했습니다: {str(e)}\"\n",
    "    \n",
    "    def create_interface(self) -> gr.Blocks:\n",
    "        \"\"\"Gradio 인터페이스 생성\"\"\"\n",
    "        with gr.Blocks() as interface:\n",
    "            gr.Markdown(\"\"\"\n",
    "                ## 질병/증상별 약물 검색\n",
    "                질병이나 증상을 한글 또는 영문으로 입력하면 관련된 약물 정보를 검색합니다.\n",
    "                \n",
    "                입력 예시:\n",
    "                - 감기 / cold\n",
    "                - 당뇨병 / diabetes\n",
    "                - 고혈압 / hypertension\n",
    "                - 소화불량 / dyspepsia\n",
    "                - 알레르기 / allergy\n",
    "                - 비염 / rhinitis\n",
    "                - 불면증 / insomnia\n",
    "                - 관절염 / arthritis\n",
    "            \"\"\")\n",
    "            \n",
    "            with gr.Row():\n",
    "                condition_input = gr.Textbox(\n",
    "                    label=\"질병/증상 입력\",\n",
    "                    placeholder=\"질병이나 증상을 입력하세요 (예: 감기, cold)\"\n",
    "                )\n",
    "                search_button = gr.Button(\"약물 검색\")\n",
    "            \n",
    "            result_output = gr.Textbox(label=\"검색 결과\", lines=10)\n",
    "            \n",
    "            search_button.click(\n",
    "                fn=self.search_drugs,\n",
    "                inputs=condition_input,\n",
    "                outputs=result_output\n",
    "            )\n",
    "            \n",
    "        return interface"
   ]
  },
  {
   "cell_type": "code",
   "execution_count": 43,
   "metadata": {},
   "outputs": [
    {
     "name": "stdout",
     "output_type": "stream",
     "text": [
      "* Running on local URL:  http://127.0.0.1:7860\n",
      "\n",
      "To create a public link, set `share=True` in `launch()`.\n"
     ]
    },
    {
     "data": {
      "text/html": [
       "<div><iframe src=\"http://127.0.0.1:7860/\" width=\"100%\" height=\"500\" allow=\"autoplay; camera; microphone; clipboard-read; clipboard-write;\" frameborder=\"0\" allowfullscreen></iframe></div>"
      ],
      "text/plain": [
       "<IPython.core.display.HTML object>"
      ]
     },
     "metadata": {},
     "output_type": "display_data"
    }
   ],
   "source": [
    "if __name__ == \"__main__\":\n",
    "    DSearch = DrugSearch()\n",
    "    demo = DSearch.create_interface()\n",
    "    demo.launch()"
   ]
  },
  {
   "cell_type": "code",
   "execution_count": 44,
   "metadata": {},
   "outputs": [
    {
     "name": "stdout",
     "output_type": "stream",
     "text": [
      "Closing server running on port: 7860\n"
     ]
    }
   ],
   "source": [
    "demo.close()"
   ]
  }
 ],
 "metadata": {
  "kernelspec": {
   "display_name": ".venv",
   "language": "python",
   "name": "python3"
  },
  "language_info": {
   "codemirror_mode": {
    "name": "ipython",
    "version": 3
   },
   "file_extension": ".py",
   "mimetype": "text/x-python",
   "name": "python",
   "nbconvert_exporter": "python",
   "pygments_lexer": "ipython3",
   "version": "3.10.6"
  }
 },
 "nbformat": 4,
 "nbformat_minor": 2
}
