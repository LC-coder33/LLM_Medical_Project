{
 "cells": [
  {
   "cell_type": "code",
   "execution_count": 19,
   "metadata": {},
   "outputs": [],
   "source": [
    "import gradio as gr\n",
    "import requests\n",
    "from typing import List, Dict\n",
    "from config import OPENFDA_API_KEY, OPENFDA_API_URL"
   ]
  },
  {
   "cell_type": "code",
   "execution_count": 23,
   "metadata": {},
   "outputs": [],
   "source": [
    "class DrugSearch:\n",
    "    def __init__(self):\n",
    "        \"\"\"약물 검색 모듈 초기화\"\"\"\n",
    "        self.api_key = OPENFDA_API_KEY\n",
    "        \n",
    "    def search_drugs(self, condition: str) -> List[Dict[str, str]]:\n",
    "        \"\"\"질병/증상에 따른 약물 검색\"\"\"\n",
    "        try:\n",
    "            if not condition.strip():\n",
    "                return []\n",
    "                \n",
    "            url = f\"{OPENFDA_API_URL}event.json\"\n",
    "            params = {\n",
    "                \"api_key\": self.api_key,\n",
    "                \"search\": f\"patient.drug.drugindication:{condition} AND patient.reaction.reactionmeddrapt:{condition}\",  # 검색 조건 강화\n",
    "                \"count\": \"patient.drug.medicinalproduct.exact\",\n",
    "                \"limit\": 10\n",
    "            }\n",
    "            \n",
    "            response = requests.get(url, params=params)\n",
    "            data = response.json()\n",
    "            \n",
    "            if \"results\" not in data:\n",
    "                return []\n",
    "            \n",
    "            drugs = []\n",
    "            for result in data[\"results\"]:\n",
    "                drug_info = {\n",
    "                    \"brand_name\": result.get(\"term\", \"N/A\"),\n",
    "                    \"count\": result.get(\"count\", 0),\n",
    "                    \"usage\": self.get_drug_purpose(result.get(\"term\", \"\"), condition),  # 용도 설명 개선\n",
    "                    \"generic_name\": \"N/A\",\n",
    "                    \"manufacturer\": \"N/A\"\n",
    "                }\n",
    "                drugs.append(drug_info)\n",
    "            \n",
    "            return drugs\n",
    "            \n",
    "        except Exception as e:\n",
    "            print(f\"약물 검색 오류: {e}\")\n",
    "            return []\n",
    "        \n",
    "    def get_drug_purpose(self, drug_name: str, condition: str) -> str:\n",
    "        \"\"\"약물의 주요 용도 설명\"\"\"\n",
    "        condition_purposes = {\n",
    "            \"hypertension\": \"고혈압 치료\",\n",
    "            \"diabetes\": \"당뇨병 치료\",\n",
    "            \"migraine\": \"편두통 치료\",\n",
    "            \"allergy\": \"알레르기 치료\",\n",
    "            \"depression\": \"우울증 치료\"\n",
    "        }\n",
    "    \n",
    "        return condition_purposes.get(condition.lower(), f\"{condition} 관련 치료\")    \n",
    "    \n",
    "    def format_drug_info(self, drugs: List[Dict[str, str]]) -> str:\n",
    "        \"\"\"약물 정보를 보기 좋게 포맷팅\"\"\"\n",
    "        if not drugs:\n",
    "            return \"검색 결과가 없습니다.\"\n",
    "            \n",
    "        formatted_text = \"# 검색된 약물 목록\\n\\n\"\n",
    "        formatted_text += \"※ 처방 횟수는 FDA에 보고된 데이터 기준입니다.\\n\"\n",
    "        formatted_text += \"※ 실제 처방 시에는 반드시 의사와 상담하세요.\\n\\n\"\n",
    "        \n",
    "        for i, drug in enumerate(drugs, 1):\n",
    "            formatted_text += f\"## {i}. {drug['brand_name']}\\n\\n\"\n",
    "            formatted_text += f\"🔹 주요 용도: {drug['usage']}\\n\"\n",
    "            formatted_text += f\"🔹 보고된 처방 건수: {drug['count']:,}건\\n\"\n",
    "            formatted_text += \"-\" * 50 + \"\\n\\n\"\n",
    "        \n",
    "        formatted_text += \"\\n> 참고: 이 정보는 FDA 데이터를 기반으로 하며, 실제 진료 시에는 의사의 처방을 따라야 합니다.\"\n",
    "        \n",
    "        return formatted_text    \n",
    "    \n",
    "    def create_interface(self) -> gr.Blocks:\n",
    "        \"\"\"Gradio 인터페이스 생성\"\"\"\n",
    "        with gr.Blocks() as interface:\n",
    "            gr.Markdown(\"\"\"\n",
    "                ## 질병/증상별 약물 검색\n",
    "                질병이나 증상을 입력하면 관련된 약물 정보를 검색합니다.\n",
    "                \n",
    "                예시 검색어:\n",
    "                - hypertension\n",
    "                - diabetes\n",
    "                - migraine\n",
    "                - allergy\n",
    "                - depression\n",
    "            \"\"\")\n",
    "            \n",
    "            with gr.Row():\n",
    "                condition_input = gr.Textbox(\n",
    "                    label=\"질병/증상 입력\",\n",
    "                    placeholder=\"영문으로 질병이나 증상을 입력하세요 (예: hypertension)\",\n",
    "                    scale=2\n",
    "                )\n",
    "                search_button = gr.Button(\n",
    "                    \"약물 검색\",\n",
    "                    scale=1\n",
    "                )\n",
    "            \n",
    "            result_output = gr.Markdown(label=\"검색 결과\")\n",
    "            \n",
    "            def search_and_format(condition):\n",
    "                drugs = self.search_drugs(condition)\n",
    "                return self.format_drug_info(drugs)\n",
    "            \n",
    "            search_button.click(\n",
    "                fn=search_and_format,\n",
    "                inputs=condition_input,\n",
    "                outputs=result_output\n",
    "            )\n",
    "            \n",
    "        return interface  # 여기에 return 문을 추가"
   ]
  },
  {
   "cell_type": "code",
   "execution_count": 24,
   "metadata": {},
   "outputs": [
    {
     "name": "stdout",
     "output_type": "stream",
     "text": [
      "* Running on local URL:  http://127.0.0.1:7860\n",
      "\n",
      "To create a public link, set `share=True` in `launch()`.\n"
     ]
    },
    {
     "data": {
      "text/html": [
       "<div><iframe src=\"http://127.0.0.1:7860/\" width=\"100%\" height=\"500\" allow=\"autoplay; camera; microphone; clipboard-read; clipboard-write;\" frameborder=\"0\" allowfullscreen></iframe></div>"
      ],
      "text/plain": [
       "<IPython.core.display.HTML object>"
      ]
     },
     "metadata": {},
     "output_type": "display_data"
    }
   ],
   "source": [
    "if __name__ == \"__main__\":\n",
    "    DSearch = DrugSearch()\n",
    "    demo = DSearch.create_interface()\n",
    "    demo.launch()"
   ]
  },
  {
   "cell_type": "code",
   "execution_count": 25,
   "metadata": {},
   "outputs": [
    {
     "name": "stdout",
     "output_type": "stream",
     "text": [
      "Closing server running on port: 7860\n"
     ]
    }
   ],
   "source": [
    "demo.close()"
   ]
  }
 ],
 "metadata": {
  "kernelspec": {
   "display_name": ".venv",
   "language": "python",
   "name": "python3"
  },
  "language_info": {
   "codemirror_mode": {
    "name": "ipython",
    "version": 3
   },
   "file_extension": ".py",
   "mimetype": "text/x-python",
   "name": "python",
   "nbconvert_exporter": "python",
   "pygments_lexer": "ipython3",
   "version": "3.10.6"
  }
 },
 "nbformat": 4,
 "nbformat_minor": 2
}
