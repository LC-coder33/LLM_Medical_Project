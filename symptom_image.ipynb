{
 "cells": [
  {
   "cell_type": "code",
   "execution_count": 31,
   "metadata": {},
   "outputs": [],
   "source": [
    "import gradio as gr\n",
    "import google.generativeai as genai\n",
    "from PIL import Image\n",
    "from typing import Tuple\n",
    "from config import GEMINI_API_KEY"
   ]
  },
  {
   "cell_type": "code",
   "execution_count": 32,
   "metadata": {},
   "outputs": [],
   "source": [
    "class SymptomImageAnalysis:\n",
    "    def __init__(self):\n",
    "        \"\"\"증상 이미지 분석 모듈 초기화\"\"\"\n",
    "        genai.configure(api_key=GEMINI_API_KEY)\n",
    "        self.vision_model = genai.GenerativeModel('gemini-1.5-flash')\n",
    "        \n",
    "    def analyze_image(self, \n",
    "                     image_path: str,\n",
    "                     additional_info: str = \"\") -> str:\n",
    "        \"\"\"이미지 분석 및 관련 정보 제공\"\"\"\n",
    "        try:\n",
    "            # 이미지 로드\n",
    "            img = Image.open(image_path)\n",
    "            \n",
    "            # 분석을 위한 프롬프트 구성\n",
    "            prompt = \"\"\"\n",
    "            이 이미지는 의료적 증상을 보여주고 있습니다. 다음 형식으로 분석해주세요:\n",
    "            \n",
    "            1. 관찰된 증상:\n",
    "            - 주요 시각적 특징을 자세히 설명\n",
    "            \n",
    "            2. 예비 진단:\n",
    "            - 가능성 있는 질환이나 상태\n",
    "            - 주의: 이는 참고용이며 전문의의 진단을 대체할 수 없음\n",
    "            \n",
    "            3. 권장 사항:\n",
    "            - 즉시 병원 방문이 필요한지 여부\n",
    "            - 일반적인 주의사항\n",
    "            \n",
    "            4. 관련 전문의:\n",
    "            - 진료가 필요한 전문의 과목\n",
    "            \n",
    "            추가 정보: {additional_info}\n",
    "            \"\"\"\n",
    "            \n",
    "            # Gemini Pro Vision으로 이미지 분석\n",
    "            response = self.vision_model.generate_content([prompt, img])\n",
    "            return response.text\n",
    "            \n",
    "        except Exception as e:\n",
    "            return f\"이미지 분석 중 오류 발생: {str(e)}\"\n",
    "\n",
    "    def create_interface(self) -> None:\n",
    "        \"\"\"Gradio 인터페이스 생성\"\"\"\n",
    "        gr.Interface(\n",
    "            fn=self.analyze_image,\n",
    "            inputs=[\n",
    "                gr.Image(label=\"증상 이미지 업로드\", type=\"filepath\"),\n",
    "                gr.Textbox(\n",
    "                    label=\"추가 정보 (선택사항)\",\n",
    "                    placeholder=\"증상이 시작된 시기, 통증 여부 등 추가 정보를 입력하세요.\",\n",
    "                    lines=3\n",
    "                )\n",
    "            ],\n",
    "            outputs=gr.Textbox(label=\"분석 결과\", lines=10),\n",
    "            title=\"피부 증상 이미지 분석\",\n",
    "            description=\"\"\"\n",
    "            피부 관련 증상 이미지를 분석하여 관련 정보를 제공합니다.\n",
    "            \n",
    "            분석 가능한 증상:\n",
    "            - 발진, 두드러기, 습진 등의 피부 질환\n",
    "            - 벌레 물린 자국\n",
    "            - 일광 화상\n",
    "            - 접촉성 피부염\n",
    "            - 가벼운 외상이나 찰과상\n",
    "            \n",
    "            주의사항:\n",
    "            - 심각한 외상이나 응급 상황은 즉시 응급실을 방문하세요\n",
    "            - 이 분석은 참고용이며 전문의의 진단을 대체할 수 없습니다\n",
    "            - 이미지는 밝은 조명에서, 선명하게 촬영해주세요\n",
    "            \"\"\",\n",
    "            examples=[\n",
    "                [\"./image/example_cat.jpg\", \"팔에 발진이 발생. 3일 전부터 시작되었고 가려움증이 동반됨\"],\n",
    "                [\"./image/example_dog.webp\", \"두드러기로 추정. 어제 저녁부터 시작되었고 약간의 붓기가 있음\"]\n",
    "            ]\n",
    "        )"
   ]
  },
  {
   "cell_type": "code",
   "execution_count": 33,
   "metadata": {},
   "outputs": [
    {
     "name": "stdout",
     "output_type": "stream",
     "text": [
      "* Running on local URL:  http://127.0.0.1:7862\n",
      "\n",
      "To create a public link, set `share=True` in `launch()`.\n"
     ]
    },
    {
     "data": {
      "text/html": [
       "<div><iframe src=\"http://127.0.0.1:7862/\" width=\"100%\" height=\"500\" allow=\"autoplay; camera; microphone; clipboard-read; clipboard-write;\" frameborder=\"0\" allowfullscreen></iframe></div>"
      ],
      "text/plain": [
       "<IPython.core.display.HTML object>"
      ]
     },
     "metadata": {},
     "output_type": "display_data"
    }
   ],
   "source": [
    "\n",
    "if __name__ == \"__main__\":\n",
    "    analyzer = SymptomImageAnalysis()\n",
    "    with gr.Blocks() as demo:\n",
    "        analyzer.create_interface()\n",
    "    demo.launch()"
   ]
  },
  {
   "cell_type": "code",
   "execution_count": 35,
   "metadata": {},
   "outputs": [
    {
     "name": "stdout",
     "output_type": "stream",
     "text": [
      "Closing server running on port: 7862\n"
     ]
    }
   ],
   "source": [
    "demo.close()"
   ]
  }
 ],
 "metadata": {
  "kernelspec": {
   "display_name": ".venv",
   "language": "python",
   "name": "python3"
  },
  "language_info": {
   "codemirror_mode": {
    "name": "ipython",
    "version": 3
   },
   "file_extension": ".py",
   "mimetype": "text/x-python",
   "name": "python",
   "nbconvert_exporter": "python",
   "pygments_lexer": "ipython3",
   "version": "3.10.6"
  }
 },
 "nbformat": 4,
 "nbformat_minor": 2
}
